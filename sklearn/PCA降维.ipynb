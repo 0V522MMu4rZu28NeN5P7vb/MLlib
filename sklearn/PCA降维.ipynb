{
 "cells": [
  {
   "cell_type": "code",
   "execution_count": 2,
   "metadata": {},
   "outputs": [],
   "source": [
    "import matplotlib.pyplot as plt\n",
    "from sklearn.datasets import load_iris\n",
    "from sklearn.decomposition import PCA"
   ]
  },
  {
   "cell_type": "code",
   "execution_count": 3,
   "metadata": {},
   "outputs": [],
   "source": [
    "iris = load_iris()"
   ]
  },
  {
   "cell_type": "code",
   "execution_count": 4,
   "metadata": {},
   "outputs": [
    {
     "data": {
      "text/plain": [
       "(150, 4)"
      ]
     },
     "execution_count": 4,
     "metadata": {},
     "output_type": "execute_result"
    }
   ],
   "source": [
    "y = iris.target\n",
    "x = iris.data\n",
    "\n",
    "#作为数组，X是几维?\n",
    "x.shape"
   ]
  },
  {
   "cell_type": "code",
   "execution_count": 7,
   "metadata": {
    "scrolled": true
   },
   "outputs": [],
   "source": [
    "#作为数据表或特征矩阵，X是几维?\n",
    "import pandas as pd\n",
    "\n",
    "#pd. DataFrame(x)"
   ]
  },
  {
   "cell_type": "code",
   "execution_count": 11,
   "metadata": {},
   "outputs": [
    {
     "data": {
      "text/plain": [
       "(150, 2)"
      ]
     },
     "execution_count": 11,
     "metadata": {},
     "output_type": "execute_result"
    }
   ],
   "source": [
    "#调用PCA\n",
    "pca = PCA(n_components=2)#实例化\n",
    "pca = pca.fit(x)#拟合模型\n",
    "\n",
    "x_dr = pca.transform(x)#获取新矩阵\n",
    "x_dr.shape\n",
    "\n",
    "#fit_transform一步到位\n",
    "#X_dr = PCA(2).fit_transform(x)"
   ]
  },
  {
   "cell_type": "code",
   "execution_count": 13,
   "metadata": {
    "scrolled": false
   },
   "outputs": [
    {
     "data": {
      "text/plain": [
       "array([-2.68412563, -2.71414169, -2.88899057, -2.74534286, -2.72871654,\n",
       "       -2.28085963, -2.82053775, -2.62614497, -2.88638273, -2.6727558 ,\n",
       "       -2.50694709, -2.61275523, -2.78610927, -3.22380374, -2.64475039,\n",
       "       -2.38603903, -2.62352788, -2.64829671, -2.19982032, -2.5879864 ,\n",
       "       -2.31025622, -2.54370523, -3.21593942, -2.30273318, -2.35575405,\n",
       "       -2.50666891, -2.46882007, -2.56231991, -2.63953472, -2.63198939,\n",
       "       -2.58739848, -2.4099325 , -2.64886233, -2.59873675, -2.63692688,\n",
       "       -2.86624165, -2.62523805, -2.80068412, -2.98050204, -2.59000631,\n",
       "       -2.77010243, -2.84936871, -2.99740655, -2.40561449, -2.20948924,\n",
       "       -2.71445143, -2.53814826, -2.83946217, -2.54308575, -2.70335978])"
      ]
     },
     "execution_count": 13,
     "metadata": {},
     "output_type": "execute_result"
    }
   ],
   "source": [
    "x_dr[y == 0,0]"
   ]
  },
  {
   "cell_type": "code",
   "execution_count": 19,
   "metadata": {},
   "outputs": [
    {
     "data": {
      "image/png": "[encoded data removed]",
      "text/plain": [
       "<Figure size 432x288 with 1 Axes>"
      ]
     },
     "metadata": {
      "needs_background": "light"
     },
     "output_type": "display_data"
    }
   ],
   "source": [
    "colors = [\"red\",\"black\",\"orange\"]\n",
    "\n",
    "plt.figure()#现在我要画图了，给我一个画布吧\n",
    "\n",
    "for i in [0,1,2]:\n",
    "    plt.scatter(x_dr[y==i,0],x_dr[y==i,1],alpha=.7,c=colors[i],label=iris.target_names[1])\n",
    "\n",
    "plt. legend()\n",
    "plt.title( ' PCA of IRIS dataset ' )\n",
    "plt.show( )"
   ]
  },
  {
   "cell_type": "code",
   "execution_count": 20,
   "metadata": {},
   "outputs": [
    {
     "data": {
      "text/plain": [
       "array([4.22824171, 0.24267075])"
      ]
     },
     "execution_count": 20,
     "metadata": {},
     "output_type": "execute_result"
    }
   ],
   "source": [
    "pca.explained_variance_   #每个新特征所带信息量大小"
   ]
  },
  {
   "cell_type": "code",
   "execution_count": 21,
   "metadata": {},
   "outputs": [
    {
     "data": {
      "text/plain": [
       "array([0.92461872, 0.05306648])"
      ]
     },
     "execution_count": 21,
     "metadata": {},
     "output_type": "execute_result"
    }
   ],
   "source": [
    "pca.explained_variance_ratio_    #新特征所占原信息量百分比"
   ]
  },
  {
   "cell_type": "code",
   "execution_count": 22,
   "metadata": {},
   "outputs": [
    {
     "data": {
      "text/plain": [
       "0.9776852063187949"
      ]
     },
     "execution_count": 22,
     "metadata": {},
     "output_type": "execute_result"
    }
   ],
   "source": [
    "pca.explained_variance_ratio_.sum()"
   ]
  },
  {
   "cell_type": "code",
   "execution_count": null,
   "metadata": {},
   "outputs": [],
   "source": []
  },
  {
   "cell_type": "code",
   "execution_count": 32,
   "metadata": {
    "scrolled": false
   },
   "outputs": [
    {
     "data": {
      "text/plain": [
       "array([0.92461872, 0.05306648, 0.01710261, 0.00521218])"
      ]
     },
     "execution_count": 32,
     "metadata": {},
     "output_type": "execute_result"
    }
   ],
   "source": [
    "pca_ = PCA().fit(x)\n",
    "pca_.explained_variance_ratio_"
   ]
  },
  {
   "cell_type": "code",
   "execution_count": 34,
   "metadata": {},
   "outputs": [
    {
     "data": {
      "text/plain": [
       "array([0.92461872, 0.97768521, 0.99478782, 1.        ])"
      ]
     },
     "execution_count": 34,
     "metadata": {},
     "output_type": "execute_result"
    }
   ],
   "source": [
    "import numpy as np\n",
    "\n",
    "np.cumsum(pca_.explained_variance_ratio_)"
   ]
  },
  {
   "cell_type": "code",
   "execution_count": 36,
   "metadata": {},
   "outputs": [
    {
     "data": {
      "image/png": "[encoded data removed]",
      "text/plain": [
       "<Figure size 432x288 with 1 Axes>"
      ]
     },
     "metadata": {
      "needs_background": "light"
     },
     "output_type": "display_data"
    }
   ],
   "source": [
    "plt.plot([1,2,3,4],np.cumsum(pca_.explained_variance_ratio_))\n",
    "plt.xticks([1,2,3,4])#这是为了限制坐标轴显示为整数\n",
    "plt.xlabel( \"number of components after dimension reduction\")\n",
    "plt.ylabel( \"cumulative explained variance ratio\")\n",
    "plt.show()"
   ]
  },
  {
   "cell_type": "code",
   "execution_count": 40,
   "metadata": {
    "scrolled": false
   },
   "outputs": [
    {
     "data": {
      "text/plain": [
       "(150, 3)"
      ]
     },
     "execution_count": 40,
     "metadata": {},
     "output_type": "execute_result"
    }
   ],
   "source": [
    "#最大似然估计\n",
    "pca_mle = PCA(n_components=\"mle\")    #\n",
    "pca_mle = pca_mle.fit(x)\n",
    "x_mle = pca_mle.transform(x)\n",
    "x_mle.shape"
   ]
  },
  {
   "cell_type": "code",
   "execution_count": 49,
   "metadata": {},
   "outputs": [
    {
     "data": {
      "text/plain": [
       "(150, 2)"
      ]
     },
     "execution_count": 49,
     "metadata": {},
     "output_type": "execute_result"
    }
   ],
   "source": [
    "#n_components信息量占比\n",
    "pca_f = PCA(n_components=0.97,svd_solver=\"full\")  #\n",
    "pca_f = pca_f.fit(x)\n",
    "x_f = pca_f.transform(x)\n",
    "x_f.shape"
   ]
  },
  {
   "cell_type": "code",
   "execution_count": 51,
   "metadata": {},
   "outputs": [
    {
     "data": {
      "text/plain": [
       "array([[ 0.36138659, -0.08452251,  0.85667061,  0.3582892 ],\n",
       "       [ 0.65658877,  0.73016143, -0.17337266, -0.07548102]])"
      ]
     },
     "execution_count": 51,
     "metadata": {},
     "output_type": "execute_result"
    }
   ],
   "source": [
    "#SVD\n",
    "PCA(2).fit(x).components_"
   ]
  },
  {
   "cell_type": "code",
   "execution_count": 52,
   "metadata": {},
   "outputs": [
    {
     "data": {
      "text/plain": [
       "(2, 4)"
      ]
     },
     "execution_count": 52,
     "metadata": {},
     "output_type": "execute_result"
    }
   ],
   "source": [
    "PCA(2).fit(x).components_.shape"
   ]
  },
  {
   "cell_type": "code",
   "execution_count": 54,
   "metadata": {},
   "outputs": [],
   "source": [
    "from sklearn.datasets import fetch_lfw_people"
   ]
  },
  {
   "cell_type": "code",
   "execution_count": null,
   "metadata": {},
   "outputs": [],
   "source": [
    "faces = fetch_lfw_people(min_faces_per_person=30)"
   ]
  },
  {
   "cell_type": "code",
   "execution_count": null,
   "metadata": {},
   "outputs": [],
   "source": [
    "faces.shape"
   ]
  },
  {
   "cell_type": "code",
   "execution_count": null,
   "metadata": {},
   "outputs": [],
   "source": [
    "faces.images.shape"
   ]
  },
  {
   "cell_type": "code",
   "execution_count": null,
   "metadata": {},
   "outputs": [],
   "source": [
    "x = faces.data"
   ]
  },
  {
   "cell_type": "code",
   "execution_count": null,
   "metadata": {},
   "outputs": [],
   "source": [
    "fig, axes = plt.subplots(3,8   #子图几行几列\n",
    "                         ,figsize=(8,4)  \n",
    "                         , subplot_kw = { \"xticks\":[], \"yticks\":[]}#不要是示坐标轴\n",
    "                        )"
   ]
  },
  {
   "cell_type": "code",
   "execution_count": null,
   "metadata": {},
   "outputs": [],
   "source": [
    "for i,ax in enumerate(axes.flat):\n",
    "    ax.imshow(faces.images[i,:,:],cmap=\"gray\") #cmap=\"gray\"  灰色"
   ]
  },
  {
   "cell_type": "code",
   "execution_count": null,
   "metadata": {},
   "outputs": [],
   "source": [
    "pca = PCA(150).fit(x)\n",
    "V = pca.components_  #特征\n",
    "V.shape"
   ]
  },
  {
   "cell_type": "code",
   "execution_count": null,
   "metadata": {},
   "outputs": [],
   "source": [
    "fig, axes = plt.subplots(3,8   #子图几行几列\n",
    "                         ,figsize=(8,4)  \n",
    "                         , subplot_kw = { \"xticks\":[], \"yticks\":[]}#不要是示坐标轴\n",
    "                        )\n",
    "\n",
    "for i,ax in enumerate(axes.flat):\n",
    "    ax.imshow(V[i,:,:].reshape(62,47),cmap=\"gray\") #cmap=\"gray\"  灰色"
   ]
  },
  {
   "cell_type": "code",
   "execution_count": null,
   "metadata": {},
   "outputs": [],
   "source": [
    "x_dr = pca.fit_transform(x) #拟合提取结果\n",
    "x_dr.shap"
   ]
  },
  {
   "cell_type": "code",
   "execution_count": null,
   "metadata": {},
   "outputs": [],
   "source": [
    "x_inverse = pca.inversw_transform(x_dr)"
   ]
  },
  {
   "cell_type": "code",
   "execution_count": null,
   "metadata": {},
   "outputs": [],
   "source": [
    "x_inverse.shape"
   ]
  },
  {
   "cell_type": "code",
   "execution_count": null,
   "metadata": {},
   "outputs": [],
   "source": [
    "fig, axes = plt.subplots(2,10   #子图几行几列\n",
    "                         ,figsize=(10,2.5)  \n",
    "                         , subplot_kw = { \"xticks\":[], \"yticks\":[]}#不要是示坐标轴\n",
    "                        )\n",
    "\n",
    "for i in range(10):\n",
    "    ax[0,i].imshow(faces.image[i,:,:],cmap=\"binary_r\")\n",
    "    ax[0,i].imshow(x_inverse[i].reshape(62,47),cmap=\"binary_r\") "
   ]
  },
  {
   "cell_type": "code",
   "execution_count": null,
   "metadata": {},
   "outputs": [],
   "source": []
  }
 ],
 "metadata": {
  "kernelspec": {
   "display_name": "Python 3",
   "language": "python",
   "name": "python3"
  },
  "language_info": {
   "codemirror_mode": {
    "name": "ipython",
    "version": 3
   },
   "file_extension": ".py",
   "mimetype": "text/x-python",
   "name": "python",
   "nbconvert_exporter": "python",
   "pygments_lexer": "ipython3",
   "version": "3.7.3"
  },
  "toc": {
   "base_numbering": 1,
   "nav_menu": {},
   "number_sections": true,
   "sideBar": true,
   "skip_h1_title": false,
   "title_cell": "Table of Contents",
   "title_sidebar": "Contents",
   "toc_cell": false,
   "toc_position": {},
   "toc_section_display": true,
   "toc_window_display": false
  }
 },
 "nbformat": 4,
 "nbformat_minor": 2
}
