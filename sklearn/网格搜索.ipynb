{
 "cells": [
  {
   "cell_type": "code",
   "execution_count": null,
   "metadata": {},
   "outputs": [],
   "source": [
    "parameters = {\"criterion\":(\"gini\",\"entropy\")\n",
    "              ,\"splitter\":(\"best\",\"random\")\n",
    "              ,\"max_depth\":[*range(1,10)]\n",
    "              ,\"min_samples_leaf\":[*range(1,50,5)]\n",
    "              ,\"min_impurity_decrease\":[*np.linspace(0,0.5,50)]\n",
    "    \n",
    "}\n",
    "\n",
    "GS = GridSearchCV(模型clf，字典parameters,cv=10)\n",
    "GS = GS.fit(Xtrain,Ytrain)\n",
    "\n",
    "GS.best_params_\n",
    "\n",
    "GS.best_socre_"
   ]
  }
 ],
 "metadata": {
  "kernelspec": {
   "display_name": "Python 3",
   "language": "python",
   "name": "python3"
  },
  "language_info": {
   "codemirror_mode": {
    "name": "ipython",
    "version": 3
   },
   "file_extension": ".py",
   "mimetype": "text/x-python",
   "name": "python",
   "nbconvert_exporter": "python",
   "pygments_lexer": "ipython3",
   "version": "3.7.3"
  },
  "toc": {
   "base_numbering": 1,
   "nav_menu": {},
   "number_sections": true,
   "sideBar": true,
   "skip_h1_title": false,
   "title_cell": "Table of Contents",
   "title_sidebar": "Contents",
   "toc_cell": false,
   "toc_position": {},
   "toc_section_display": true,
   "toc_window_display": false
  }
 },
 "nbformat": 4,
 "nbformat_minor": 2
}
