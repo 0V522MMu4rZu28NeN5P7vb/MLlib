{
 "cells": [
  {
   "cell_type": "code",
   "execution_count": 2,
   "id": "48048d86",
   "metadata": {},
   "outputs": [],
   "source": [
    "import numpy as np\n",
    "import pandas as pd\n",
    "from sklearn.ensemble import RandomForestClassifier\n",
    "from sklearn.metrics import accuracy_score\n",
    "from sklearn.model_selection import RandomizedSearchCV"
   ]
  },
  {
   "cell_type": "code",
   "execution_count": null,
   "id": "ab2aaef2",
   "metadata": {},
   "outputs": [],
   "source": [
    "y = pd.read_excel('F:/Subtraction/price/选择取数/XXXX20220629.xlsx', sheet_name=1).fillna(-1)\n",
    "dic1 = {}\n",
    "for index, value in enumerate(set(y['车型名称'])):\n",
    "    dic1[value]= index\n",
    "\n",
    "dic2 = {}\n",
    "for index, value in enumerate(set(y['compname'])):\n",
    "    dic2[value]= index\n",
    "\n",
    "dic4 = {}\n",
    "for index, value in enumerate(set(y['修理厂类型'])):\n",
    "    dic4[value]= index\n",
    "\n",
    "X = np.vstack((y['车型名称'].map(lambda x: dic1.get(x) if dic1.get(x) else -1), \n",
    "                   y['修理厂类型'].map(lambda x: dic4.get(x) if dic4.get(x) else -1), \n",
    "                   y['compname'].map(lambda x: dic2.get(x) if dic2.get(x) else -1), \n",
    "                   y['配件定损'], y['配件核损'], y['配件残值'])).T\n",
    "# usecols=['（配）所属区间', '（工）所属区间']\n",
    "Y = y['（配）所属区间'].astype('str')"
   ]
  },
  {
   "cell_type": "code",
   "execution_count": 3,
   "id": "4feb378f",
   "metadata": {},
   "outputs": [
    {
     "data": {
      "text/plain": [
       "125315"
      ]
     },
     "execution_count": 3,
     "metadata": {},
     "output_type": "execute_result"
    }
   ],
   "source": [
    "len(X)"
   ]
  },
  {
   "cell_type": "code",
   "execution_count": 4,
   "id": "c43a140d",
   "metadata": {},
   "outputs": [
    {
     "data": {
      "text/plain": [
       "0         -B\n",
       "1          A\n",
       "2         -A\n",
       "3          B\n",
       "4          A\n",
       "          ..\n",
       "125310    -A\n",
       "125311    -A\n",
       "125312     A\n",
       "125313    -A\n",
       "125314    -A\n",
       "Name: （配）所属区间, Length: 125315, dtype: object"
      ]
     },
     "execution_count": 4,
     "metadata": {},
     "output_type": "execute_result"
    }
   ],
   "source": [
    "Y"
   ]
  },
  {
   "cell_type": "code",
   "execution_count": null,
   "id": "273fcdc6",
   "metadata": {},
   "outputs": [],
   "source": [
    "# 参数配置\n",
    "# 随机森林中树的个数\n",
    "n_estimators = [int(x) for x in np.linspace(start = 100, stop = 2000, num = 200)]\n",
    "# 每一节点考虑切分的节点数\n",
    "max_features = ['auto', 'sqrt']\n",
    "# 最大深度\n",
    "max_depth = [int(x) for x in np.linspace(5, 100, num = 5)]\n",
    "max_depth.append(None)\n",
    "# 切分一个节点最小数量\n",
    "min_samples_split = [1, 2,]\n",
    "# 每一叶子节点最小数量\n",
    "min_samples_leaf = [1, 2]\n",
    "# Method of selecting samples for training each tree\n",
    "bootstrap = [True, False]\n",
    " \n",
    "# Create the random grid\n",
    "random_grid = {'n_estimators': n_estimators,\n",
    "               'max_features': max_features,\n",
    "               'max_depth': max_depth,\n",
    "               'min_samples_split': min_samples_split,\n",
    "               'min_samples_leaf': min_samples_leaf,\n",
    "               'bootstrap': bootstrap}\n",
    "\n",
    "# random_grid = {'n_estimators': n_estimators}\n",
    "\n",
    "forest = RandomForestClassifier()\n",
    "\n",
    "rf_random = RandomizedSearchCV(estimator=forest, param_distributions=random_grid,\n",
    "                              scoring='neg_mean_absolute_error', n_jobs=4,n_iter = 100,\n",
    "                               verbose = 2,cv = 3,random_state = 0)\n",
    "rf_random.fit(X, Y)"
   ]
  },
  {
   "cell_type": "code",
   "execution_count": 40,
   "id": "6e3d6155",
   "metadata": {},
   "outputs": [
    {
     "name": "stdout",
     "output_type": "stream",
     "text": [
      "寻找的结果： RandomForestClassifier(max_depth=28, max_features='sqrt', n_estimators=1360)\n"
     ]
    }
   ],
   "source": [
    "cvres = rf_random.cv_results_\n",
    "# for mean_score, params in zip(cvres[\"mean_test_score\"], cvres[\"params\"]):\n",
    "#     print(np.sqrt(-mean_score), params)\n",
    "\n",
    "print(\"寻找的结果：\", rf_random.best_estimator_)\n"
   ]
  },
  {
   "cell_type": "code",
   "execution_count": 32,
   "id": "a2299507",
   "metadata": {},
   "outputs": [
    {
     "data": {
      "text/plain": [
       "RandomForestClassifier(max_depth=20, max_features='sqrt')"
      ]
     },
     "execution_count": 32,
     "metadata": {},
     "output_type": "execute_result"
    }
   ],
   "source": [
    "rf_random = RandomForestClassifier(n_estimators = 100, max_features = 'sqrt', min_samples_leaf = 1, max_depth = 20)\n",
    "rf_random.fit(X, Y)\n",
    "\n",
    "# cvres = rf_random.cv_results_\n",
    "# for mean_score, params in zip(cvres[\"mean_test_score\"], cvres[\"params\"]):\n",
    "#     print(np.sqrt(-mean_score), params)\n",
    "\n",
    "# print(\"寻找的结果：\", rf_random.best_estimator_)\n",
    "# multi_target_forest = MultiOutputClassifier(forest, n_jobs=2)"
   ]
  },
  {
   "cell_type": "code",
   "execution_count": 41,
   "id": "311f03f3",
   "metadata": {},
   "outputs": [
    {
     "name": "stdout",
     "output_type": "stream",
     "text": [
      "正确率： 0.9404939552328133\n",
      "正确个数： 117858\n"
     ]
    }
   ],
   "source": [
    "rf_random.predict(X)\n",
    "result = rf_random.predict(X)\n",
    "\n",
    "print(\"正确率：\",accuracy_score(Y, result))\n",
    "print(\"正确个数：\",accuracy_score(Y, result, normalize=False))\n"
   ]
  },
  {
   "cell_type": "code",
   "execution_count": 42,
   "id": "ea4a9b9c",
   "metadata": {},
   "outputs": [
    {
     "name": "stdout",
     "output_type": "stream",
     "text": [
      "混淆矩阵：\n",
      "[[  739     0     0     0    28    22     0     0     0     0]\n",
      " [    0  2450     0     0    66    42     0     0     0     0]\n",
      " [    0     0  2714     0   194    55     0     0     0     0]\n",
      " [    0     0     0  2176   369    92     0     0     0     0]\n",
      " [    0     0     0     0 62634    40     0     0     0     0]\n",
      " [    0     0     0     0  5641 38421     0     0     0     0]\n",
      " [    0     0     0     0   254   191  2089     0     0     0]\n",
      " [    0     0     0     0   172   117     0  2091     0     0]\n",
      " [    0     0     0     0    80    58     0     0  2017     0]\n",
      " [    0     0     0     0    22     9     0     0     0  1413]]\n"
     ]
    }
   ],
   "source": [
    "from sklearn.metrics import confusion_matrix\n",
    "C=confusion_matrix(Y, result, labels=[\"-E\", \"-D\", \"-C\", \"-B\", \"-A\", \"A\", \"B\", \"C\", \"D\", \"E\"])\n",
    "print(\"混淆矩阵：\")\n",
    "print(C)\n",
    "# y['result1'] = result\n",
    "# loo = y[y['（配）所属区间'].astype('str') != y['result1'].astype('str')]\n",
    "# print(loo)"
   ]
  },
  {
   "cell_type": "code",
   "execution_count": 8,
   "id": "a3f18e2b",
   "metadata": {},
   "outputs": [],
   "source": [
    "X9196_data = pd.read_excel('F:/Subtraction/price/选择取数/XXXX20220629范围.xlsx', sheet_name=0).fillna(-1)\n",
    "X9196 = np.vstack((X9196_data['车型名称'].map(lambda x: dic1.get(x) if dic1.get(x) else -1), \n",
    "                   X9196_data['修理厂类型'].map(lambda x: dic4.get(x) if dic4.get(x) else -1), \n",
    "                   X9196_data['compname'].map(lambda x: dic2.get(x) if dic2.get(x) else -1), \n",
    "                   X9196_data['配件定损'], X9196_data['配件核损'], X9196_data['配件残值'])).T"
   ]
  },
  {
   "cell_type": "code",
   "execution_count": null,
   "id": "a8589cd9",
   "metadata": {},
   "outputs": [],
   "source": []
  },
  {
   "cell_type": "code",
   "execution_count": 43,
   "id": "c7c0de7d",
   "metadata": {
    "scrolled": true
   },
   "outputs": [],
   "source": [
    "result2 = rf_random.predict(X9196)\n"
   ]
  },
  {
   "cell_type": "code",
   "execution_count": 26,
   "id": "668570c9",
   "metadata": {
    "scrolled": true
   },
   "outputs": [
    {
     "name": "stdout",
     "output_type": "stream",
     "text": [
      "正确率： 0.4961784560459591\n",
      "正确个数： 78941\n"
     ]
    }
   ],
   "source": [
    "print(\"正确率：\",accuracy_score(X9196_data['（配）所属区间'], result2))\n",
    "print(\"正确个数：\",accuracy_score(X9196_data['（配）所属区间'], result2, normalize=False))"
   ]
  },
  {
   "cell_type": "code",
   "execution_count": 44,
   "id": "9b807cdd",
   "metadata": {},
   "outputs": [
    {
     "name": "stdout",
     "output_type": "stream",
     "text": [
      "正确率： 0.4983909288614565\n",
      "正确个数： 79293\n"
     ]
    }
   ],
   "source": [
    "print(\"正确率：\",accuracy_score(X9196_data['（配）所属区间'], result2))\n",
    "print(\"正确个数：\",accuracy_score(X9196_data['（配）所属区间'], result2, normalize=False))"
   ]
  },
  {
   "cell_type": "code",
   "execution_count": 27,
   "id": "494b4708",
   "metadata": {},
   "outputs": [
    {
     "name": "stdout",
     "output_type": "stream",
     "text": [
      "混淆矩阵：\n",
      "[[  156   114    13    14    48   123     0     2     1     5]\n",
      " [   17  1148   219    45   354  1008     0     0     0     2]\n",
      " [    7   188   441    95  1135  1479    10    10     3     2]\n",
      " [    4    79   116    58  1461  1406     6     3     4     1]\n",
      " [    5    54    90    59 36599 33327    56    26    24     8]\n",
      " [    6    15    34    42 28575 39385    64    69    60    11]\n",
      " [    3     3     9     6   781  1521    35    63    74    36]\n",
      " [    3     5     4     2   544  1808    46   111   163    64]\n",
      " [    6     2    10     5   333  1479    36   162   381   175]\n",
      " [    9     2     1     1   108  1018    23   126   321   627]]\n"
     ]
    }
   ],
   "source": [
    "C2=confusion_matrix(X9196_data['（配）所属区间'], result2, labels=[\"-E\", \"-D\", \"-C\", \"-B\", \"-A\", \"A\", \"B\", \"C\", \"D\", \"E\"])\n",
    "print(\"混淆矩阵：\")\n",
    "print(C2)"
   ]
  },
  {
   "cell_type": "code",
   "execution_count": 14,
   "id": "3014b062",
   "metadata": {},
   "outputs": [],
   "source": [
    "# fr = open(\"test.txt\",'r+')\n",
    "# 读取的str转换为字典\n",
    "# dic = eval(fr.read()) \n",
    "# print(dic)\n",
    "# fr.close()\n",
    "fw1 = open(\"相同车型dic1.txt\", 'w+', encoding='utf-8')\n",
    "# 把字典转化为str\n",
    "fw1.write(str(dic1))      \n",
    "fw1.close()\n",
    "fw2 = open(\"相同车型dic2.txt\", 'w+', encoding='utf-8')\n",
    "fw2.write(str(dic2))\n",
    "fw2.close()\n",
    "fw4 = open(\"相同车型dic4.txt\", 'w+', encoding='utf-8')\n",
    "fw4.write(str(dic4))\n",
    "fw4.close()"
   ]
  },
  {
   "cell_type": "code",
   "execution_count": 16,
   "id": "fb485b72",
   "metadata": {},
   "outputs": [
    {
     "data": {
      "text/plain": [
       "['1.4w配件训练（相同车型）.m']"
      ]
     },
     "execution_count": 16,
     "metadata": {},
     "output_type": "execute_result"
    }
   ],
   "source": [
    "import joblib\n",
    "# 存储\n",
    "joblib.dump(rf_random, \"1.4w配件训练（相同车型）.m\") \n",
    "# 调用\n",
    "# clf = joblib.load(\"train_model.m\") "
   ]
  },
  {
   "cell_type": "code",
   "execution_count": 17,
   "id": "5d83c9c0",
   "metadata": {},
   "outputs": [],
   "source": [
    "X9196_data['预测结果'] = result2"
   ]
  },
  {
   "cell_type": "code",
   "execution_count": null,
   "id": "9dfb4da7",
   "metadata": {},
   "outputs": [],
   "source": []
  }
 ],
 "metadata": {
  "kernelspec": {
   "display_name": "Python 3 (ipykernel)",
   "language": "python",
   "name": "python3"
  },
  "language_info": {
   "codemirror_mode": {
    "name": "ipython",
    "version": 3
   },
   "file_extension": ".py",
   "mimetype": "text/x-python",
   "name": "python",
   "nbconvert_exporter": "python",
   "pygments_lexer": "ipython3",
   "version": "3.9.12"
  }
 },
 "nbformat": 4,
 "nbformat_minor": 5
}
