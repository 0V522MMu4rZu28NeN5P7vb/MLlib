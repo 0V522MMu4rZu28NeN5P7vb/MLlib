{
 "cells": [
  {
   "cell_type": "code",
   "execution_count": null,
   "metadata": {},
   "outputs": [],
   "source": [
    "#均值填补\n",
    "from sklearn.impute import SimpleImputer\n",
    "\n",
    "#missinf_values替换的值\n",
    "imp_mean = SimpleImputer(missinf_values=np.nan,strategy=\"mean\")\n",
    "\n",
    "#X_missing_data处理的数据\n",
    "X_missing_mean = imp_mean.fit_transform(X_missing_data)"
   ]
  },
  {
   "cell_type": "code",
   "execution_count": null,
   "metadata": {},
   "outputs": [],
   "source": [
    "#数值填补\n",
    "\n",
    "#missinf_values替换的值\n",
    "imp_0 = SimpleImputer(missinf_values=np.nan,strategy=\"constant\",fill_value=0)\n",
    "\n",
    "#X_missing_data处理的数据\n",
    "X_missing_0 = imp_0.fit_transform(X_missing_data)"
   ]
  },
  {
   "cell_type": "code",
   "execution_count": null,
   "metadata": {},
   "outputs": [],
   "source": [
    "#随机森林填补\n",
    "\n",
    "X_missing_reg = X_missing_data.copy()\n",
    "\n",
    "#缺失特征排序，先补缺失少的（返回对应缺失特征索引）\n",
    "sortindex = np.argsort(X_missing_reg.isnull().sum(axis=0)).values\n",
    "\n",
    "#将非本次填充特征补0\n",
    "for i in sortindex:\n",
    "    \n",
    "    df = X_missing_reg\n",
    "\n",
    "    #新标签\n",
    "    fillc = df.iloc[:,i]\n",
    "\n",
    "    #新矩阵\n",
    "    df = pd.concat([df.iloc[: df.columns!=i],pd.DataFrame(y_full)],axis=1)\n",
    "\n",
    "    #补0\n",
    "    df_0 = SimpleImputer(missinf_values=np.nan,strategy=\"constant\",fill_value=0).fit_transform(df)\n",
    "\n",
    "    #定义训练集测试集\n",
    "    Ytrain = fillc[fillc.notnull()]#非空的为训练集的Y，根据索引获取\n",
    "    Ytest = fillc[fillc.isnull()]#给Xtest提供索引\n",
    "\n",
    "    Xtrain = df_0[Ytrain.index,:]#根据索引获取训练集，填0之后的\n",
    "    Xtest = df_0[Ytest.index,:]#需要填充的缺失项\n",
    "\n",
    "    rfc = RandomForestRegressor(n_estimators=100)\n",
    "    rfc = rfc.fit(Xtrain,Ytrain)\n",
    "\n",
    "    Ypredict = rfc.predict(Xtest)#得到结果\n",
    "\n",
    "    #填补\n",
    "    X_missing_reg_.loc[X_missing_reg.iloc[:,i].isnull(),i] = Ypredict"
   ]
  }
 ],
 "metadata": {
  "kernelspec": {
   "display_name": "Python 3",
   "language": "python",
   "name": "python3"
  },
  "language_info": {
   "codemirror_mode": {
    "name": "ipython",
    "version": 3
   },
   "file_extension": ".py",
   "mimetype": "text/x-python",
   "name": "python",
   "nbconvert_exporter": "python",
   "pygments_lexer": "ipython3",
   "version": "3.7.3"
  },
  "toc": {
   "base_numbering": 1,
   "nav_menu": {},
   "number_sections": true,
   "sideBar": true,
   "skip_h1_title": false,
   "title_cell": "Table of Contents",
   "title_sidebar": "Contents",
   "toc_cell": false,
   "toc_position": {},
   "toc_section_display": true,
   "toc_window_display": false
  }
 },
 "nbformat": 4,
 "nbformat_minor": 2
}
